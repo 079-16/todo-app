{
 "cells": [
  {
   "cell_type": "code",
   "execution_count": 1,
   "metadata": {},
   "outputs": [],
   "source": [
    "import calendar\n",
    "import datetime\n",
    "import random\n",
    "import tkinter"
   ]
  },
  {
   "cell_type": "code",
   "execution_count": 3,
   "metadata": {},
   "outputs": [
    {
     "name": "stdout",
     "output_type": "stream",
     "text": [
      "BCDEFG\n",
      "正解です\n",
      "3秒かかりました\n"
     ]
    }
   ],
   "source": [
    "ALP = [\"A\",\"B\",\"C\",\"D\",\"E\",\"F\",\"G\"]\n",
    "r = random.choice(ALP)\n",
    "alp = ''\n",
    "for i in ALP:\n",
    "  if i != r:\n",
    "    alp = alp + i\n",
    "print(alp)\n",
    "st = datetime.datetime.now()\n",
    "ans = input('抜けているアルファベットは？')\n",
    "if ans == r:\n",
    "  print('正解です')\n",
    "  et = datetime.datetime.now()\n",
    "  print(str((et-st).seconds) + '秒かかりました')\n",
    "else:\n",
    "  print('違います')"
   ]
  },
  {
   "cell_type": "code",
   "execution_count": 3,
   "metadata": {},
   "outputs": [
    {
     "name": "stdout",
     "output_type": "stream",
     "text": [
      "P・・・・・・・・・・・・・・・・・・・・・・・・・・・・・\n",
      "C・・・・・・・・・・・・・・・・・・・・・・・・・・・・・\n",
      "スゴロク、スタート！\n",
      "・・・・P・・・・・・・・・・・・・・・・・・・・・・・・・\n",
      "C・・・・・・・・・・・・・・・・・・・・・・・・・・・・・\n",
      "・・・・P・・・・・・・・・・・・・・・・・・・・・・・・・\n",
      "・・・・・C・・・・・・・・・・・・・・・・・・・・・・・・\n",
      "・・・・・・・・・P・・・・・・・・・・・・・・・・・・・・\n",
      "・・・・・C・・・・・・・・・・・・・・・・・・・・・・・・\n",
      "・・・・・・・・・P・・・・・・・・・・・・・・・・・・・・\n",
      "・・・・・・・C・・・・・・・・・・・・・・・・・・・・・・\n",
      "・・・・・・・・・・・・・・P・・・・・・・・・・・・・・・\n",
      "・・・・・・・C・・・・・・・・・・・・・・・・・・・・・・\n",
      "・・・・・・・・・・・・・・P・・・・・・・・・・・・・・・\n",
      "・・・・・・・・・・・・C・・・・・・・・・・・・・・・・・\n",
      "・・・・・・・・・・・・・・・・・・・P・・・・・・・・・・\n",
      "・・・・・・・・・・・・C・・・・・・・・・・・・・・・・・\n",
      "・・・・・・・・・・・・・・・・・・・P・・・・・・・・・・\n",
      "・・・・・・・・・・・・・・・・・C・・・・・・・・・・・・\n",
      "・・・・・・・・・・・・・・・・・・・・P・・・・・・・・・\n",
      "・・・・・・・・・・・・・・・・・C・・・・・・・・・・・・\n",
      "・・・・・・・・・・・・・・・・・・・・P・・・・・・・・・\n",
      "・・・・・・・・・・・・・・・・・・・・・・・C・・・・・・\n",
      "・・・・・・・・・・・・・・・・・・・・・・・・P・・・・・\n",
      "・・・・・・・・・・・・・・・・・・・・・・・C・・・・・・\n",
      "・・・・・・・・・・・・・・・・・・・・・・・・P・・・・・\n",
      "・・・・・・・・・・・・・・・・・・・・・・・・・・・・C・\n",
      "・・・・・・・・・・・・・・・・・・・・・・・・・・・P・・\n",
      "・・・・・・・・・・・・・・・・・・・・・・・・・・・・C・\n",
      "・・・・・・・・・・・・・・・・・・・・・・・・・・・P・・\n",
      "・・・・・・・・・・・・・・・・・・・・・・・・・・・・・C\n",
      "CPの勝ちです\n"
     ]
    }
   ],
   "source": [
    "pl_pos = 1\n",
    "com_pos = 1\n",
    "def banmen():\n",
    "  print('・'*(pl_pos-1) + 'P' + '・'*(30-pl_pos))\n",
    "  print('・'*(com_pos-1)+ 'C' + '・'*(30-com_pos))\n",
    "banmen()\n",
    "print('スゴロク、スタート！')\n",
    "while True:\n",
    "  input('Enterを押すとあなたのコマが進みます')\n",
    "  pl_pos = pl_pos + random.randint(1,6)\n",
    "  if pl_pos > 30:\n",
    "    pl_pos = 30\n",
    "  banmen()\n",
    "  if pl_pos ==30:\n",
    "    print('あなたの勝ちです')\n",
    "    break\n",
    "  input('Enterを押すとCPのコマが進みます')\n",
    "  com_pos = com_pos + random.randint(1,6)\n",
    "  if com_pos > 30:\n",
    "    com_pos = 30\n",
    "  banmen()\n",
    "  if com_pos == 30:\n",
    "    print('CPの勝ちです')\n",
    "    break"
   ]
  },
  {
   "cell_type": "code",
   "execution_count": 3,
   "metadata": {},
   "outputs": [],
   "source": [
    "root = tkinter.Tk()\n",
    "root.title('初めてのウィンドウ')\n",
    "root.geometry('800x600')\n",
    "root.mainloop()"
   ]
  },
  {
   "cell_type": "code",
   "execution_count": 17,
   "metadata": {},
   "outputs": [],
   "source": [
    "root = tkinter.Tk()\n",
    "root.title('初めてのラベル')\n",
    "root.geometry('800x600')\n",
    "label = tkinter.Label(root, text = 'ラベルの文字列',font = (\"MS Serif\",24))\n",
    "label.place(x=200, y=100)\n",
    "root.mainloop()"
   ]
  },
  {
   "cell_type": "code",
   "execution_count": 12,
   "metadata": {},
   "outputs": [
    {
     "name": "stdout",
     "output_type": "stream",
     "text": [
      "('System', '@System', 'Terminal', '@Terminal', 'FixedSys', '@FixedSys', 'Modern', 'Roman', 'Script', 'Courier', 'MS Serif', 'MS Sans Serif', 'Small Fonts', '@Small Fonts', 'りいてがき筆', '@りいてがき筆', 'Blenda Script', 'しろくまフォント', 'F910新コミック体', '@F910新コミック体', 'ピグモ 01', '@ピグモ 01', 'aoharu-marker-mini', 'Eustache', 'Marlett', 'Arial', 'Arabic Transparent', 'Arial Baltic', 'Arial CE', 'Arial CYR', 'Arial Greek', 'Arial TUR', 'Arial Black', 'Bahnschrift Light', 'Bahnschrift SemiLight', 'Bahnschrift', 'Bahnschrift SemiBold', 'Bahnschrift Light SemiCondensed', 'Bahnschrift SemiLight SemiConde', 'Bahnschrift SemiCondensed', 'Bahnschrift SemiBold SemiConden', 'Bahnschrift Light Condensed', 'Bahnschrift SemiLight Condensed', 'Bahnschrift Condensed', 'Bahnschrift SemiBold Condensed', 'Calibri', 'Calibri Light', 'Cambria', 'Cambria Math', 'Candara', 'Candara Light', 'Comic Sans MS', 'Consolas', 'Constantia', 'Corbel', 'Corbel Light', 'Courier New', 'Courier New Baltic', 'Courier New CE', 'Courier New CYR', 'Courier New Greek', 'Courier New TUR', 'Ebrima', 'Franklin Gothic Medium', 'Gabriola', 'Gadugi', 'Georgia', 'Impact', 'Ink Free', 'Javanese Text', 'Leelawadee UI', 'Leelawadee UI Semilight', 'Lucida Console', 'Lucida Sans Unicode', 'Malgun Gothic', '@Malgun Gothic', 'Malgun Gothic Semilight', '@Malgun Gothic Semilight', 'Microsoft Himalaya', 'Microsoft JhengHei', '@Microsoft JhengHei', 'Microsoft JhengHei UI', '@Microsoft JhengHei UI', 'Microsoft JhengHei Light', '@Microsoft JhengHei Light', 'Microsoft JhengHei UI Light', '@Microsoft JhengHei UI Light', 'Microsoft New Tai Lue', 'Microsoft PhagsPa', 'Microsoft Sans Serif', 'Microsoft Tai Le', 'Microsoft YaHei', '@Microsoft YaHei', 'Microsoft YaHei UI', '@Microsoft YaHei UI', 'Microsoft YaHei Light', '@Microsoft YaHei Light', 'Microsoft YaHei UI Light', '@Microsoft YaHei UI Light', 'Microsoft Yi Baiti', 'MingLiU-ExtB', '@MingLiU-ExtB', 'PMingLiU-ExtB', '@PMingLiU-ExtB', 'MingLiU_HKSCS-ExtB', '@MingLiU_HKSCS-ExtB', 'Mongolian Baiti', 'ＭＳ ゴシック', '@ＭＳ ゴシック', 'MS UI Gothic', '@MS UI Gothic', 'ＭＳ Ｐゴシック', '@ＭＳ Ｐゴシック', 'MV Boli', 'Myanmar Text', 'Nirmala UI', 'Nirmala UI Semilight', 'Palatino Linotype', 'Segoe MDL2 Assets', 'Segoe Print', 'Segoe Script', 'Segoe UI', 'Segoe UI Black', 'Segoe UI Emoji', 'Segoe UI Historic', 'Segoe UI Light', 'Segoe UI Semibold', 'Segoe UI Semilight', 'Segoe UI Symbol', 'SimSun', '@SimSun', 'NSimSun', '@NSimSun', 'SimSun-ExtB', '@SimSun-ExtB', 'Sitka Small', 'Sitka Text', 'Sitka Subheading', 'Sitka Heading', 'Sitka Display', 'Sitka Banner', 'Sylfaen', 'Symbol', 'Tahoma', 'Times New Roman', 'Times New Roman Baltic', 'Times New Roman CE', 'Times New Roman CYR', 'Times New Roman Greek', 'Times New Roman TUR', 'Trebuchet MS', 'Verdana', 'Webdings', 'Wingdings', '游ゴシック', '@游ゴシック', 'Yu Gothic UI', '@Yu Gothic UI', 'Yu Gothic UI Semibold', '@Yu Gothic UI Semibold', '游ゴシック Light', '@游ゴシック Light', 'Yu Gothic UI Light', '@Yu Gothic UI Light', '游ゴシック Medium', '@游ゴシック Medium', 'Yu Gothic UI Semilight', '@Yu Gothic UI Semilight', 'BIZ UDゴシック', '@BIZ UDゴシック', 'BIZ UDPゴシック', '@BIZ UDPゴシック', 'BIZ UD明朝 Medium', '@BIZ UD明朝 Medium', 'BIZ UDP明朝 Medium', '@BIZ UDP明朝 Medium', 'メイリオ', '@メイリオ', 'Meiryo UI', '@Meiryo UI', 'ＭＳ 明朝', '@ＭＳ 明朝', 'ＭＳ Ｐ明朝', '@ＭＳ Ｐ明朝', 'UD デジタル 教科書体 N-B', '@UD デジタル 教科書体 N-B', 'UD デジタル 教科書体 NP-B', '@UD デジタル 教科書体 NP-B', 'UD デジタル 教科書体 NK-B', '@UD デジタル 教科書体 NK-B', 'UD デジタル 教科書体 N-R', '@UD デジタル 教科書体 N-R', 'UD デジタル 教科書体 NP-R', '@UD デジタル 教科書体 NP-R', 'UD デジタル 教科書体 NK-R', '@UD デジタル 教科書体 NK-R', '游明朝', '@游明朝', '游明朝 Demibold', '@游明朝 Demibold', '游明朝 Light', '@游明朝 Light', 'HoloLens MDL2 Assets', 'Book Antiqua', 'Arial Narrow', 'Bookman Old Style', 'Bookshelf Symbol 7', 'Century', 'Dubai', 'Dubai Light', 'Dubai Medium', 'Garamond', 'Century Gothic', 'HG正楷書体-PRO', '@HG正楷書体-PRO', 'HG丸ｺﾞｼｯｸM-PRO', '@HG丸ｺﾞｼｯｸM-PRO', 'Monotype Corsiva', 'MT Extra', 'OCRB', 'MS Outlook', 'MS Reference Sans Serif', 'MS Reference Specialty', 'Wingdings 2', 'Wingdings 3', 'HGｺﾞｼｯｸE', '@HGｺﾞｼｯｸE', 'HGPｺﾞｼｯｸE', '@HGPｺﾞｼｯｸE', 'HGSｺﾞｼｯｸE', '@HGSｺﾞｼｯｸE', 'HGｺﾞｼｯｸM', '@HGｺﾞｼｯｸM', 'HGPｺﾞｼｯｸM', '@HGPｺﾞｼｯｸM', 'HGSｺﾞｼｯｸM', '@HGSｺﾞｼｯｸM', 'HG行書体', '@HG行書体', 'HGP行書体', '@HGP行書体', 'HGS行書体', '@HGS行書体', 'HG教科書体', '@HG教科書体', 'HGP教科書体', '@HGP教科書体', 'HGS教科書体', '@HGS教科書体', 'HG明朝B', '@HG明朝B', 'HGP明朝B', '@HGP明朝B', 'HGS明朝B', '@HGS明朝B', 'HG明朝E', '@HG明朝E', 'HGP明朝E', '@HGP明朝E', 'HGS明朝E', '@HGS明朝E', 'HG創英角ﾎﾟｯﾌﾟ体', '@HG創英角ﾎﾟｯﾌﾟ体', 'HGP創英角ﾎﾟｯﾌﾟ体', '@HGP創英角ﾎﾟｯﾌﾟ体', 'HGS創英角ﾎﾟｯﾌﾟ体', '@HGS創英角ﾎﾟｯﾌﾟ体', 'HG創英ﾌﾟﾚｾﾞﾝｽEB', '@HG創英ﾌﾟﾚｾﾞﾝｽEB', 'HGP創英ﾌﾟﾚｾﾞﾝｽEB', '@HGP創英ﾌﾟﾚｾﾞﾝｽEB', 'HGS創英ﾌﾟﾚｾﾞﾝｽEB', '@HGS創英ﾌﾟﾚｾﾞﾝｽEB', 'HG創英角ｺﾞｼｯｸUB', '@HG創英角ｺﾞｼｯｸUB', 'HGP創英角ｺﾞｼｯｸUB', '@HGP創英角ｺﾞｼｯｸUB', 'HGS創英角ｺﾞｼｯｸUB', '@HGS創英角ｺﾞｼｯｸUB', 'Baloo', '源界明朝', '@源界明朝', 'Persona', '@Persona', 'ふわふで', '@ふわふで', 'あじふで', '@あじふで', '数式フォント', '@数式フォント', '数式フォントかな【UB】', '@数式フォントかな【UB】', 'みつバッチフォント', '@みつバッチフォント')\n"
     ]
    }
   ],
   "source": [
    "import tkinter\n",
    "import tkinter.font\n",
    "root = tkinter.Tk()\n",
    "print(tkinter.font.families())"
   ]
  },
  {
   "cell_type": "code",
   "execution_count": 19,
   "metadata": {},
   "outputs": [],
   "source": [
    "root = tkinter.Tk()\n",
    "root.title('初めてのボタン')\n",
    "root.geometry('800x600')\n",
    "button = tkinter.Button(root, text='ボタンの文字列',font=('Times New Roman',24))\n",
    "button.place(x=200,y=100)\n",
    "root.mainloop()"
   ]
  },
  {
   "cell_type": "code",
   "execution_count": 20,
   "metadata": {},
   "outputs": [],
   "source": [
    "def click_btn():\n",
    "    button['text'] = 'クリックしました'\n",
    "\n",
    "root = tkinter.Tk()\n",
    "root.title('初めてのボタン')\n",
    "root.geometry('800x600')\n",
    "button = tkinter.Button(root, text='クリックしてください',font=('Times New Roman',24),command=click_btn)\n",
    "button.place(x=200,y=100)\n",
    "root.mainloop()"
   ]
  },
  {
   "cell_type": "code",
   "execution_count": 23,
   "metadata": {},
   "outputs": [],
   "source": [
    "root = tkinter.Tk()\n",
    "root.title('初めてのキャンバス')\n",
    "canvas = tkinter.Canvas(root, width=400, height=600, bg='skyblue')\n",
    "canvas.pack()\n",
    "root.mainloop()"
   ]
  },
  {
   "cell_type": "code",
   "execution_count": 28,
   "metadata": {},
   "outputs": [],
   "source": [
    "root = tkinter.Tk()\n",
    "root.title('初めての画像表示')\n",
    "canvas = tkinter.Canvas(root, width=400, height=600, bg='skyblue')\n",
    "canvas.pack()\n",
    "gazou = tkinter.PhotoImage(file='iroha.png',master=root)\n",
    "canvas.create_image(200,300,image = gazou)\n",
    "root.mainloop()"
   ]
  },
  {
   "cell_type": "code",
   "execution_count": null,
   "metadata": {},
   "outputs": [],
   "source": []
  },
  {
   "cell_type": "code",
   "execution_count": null,
   "metadata": {},
   "outputs": [],
   "source": []
  },
  {
   "cell_type": "code",
   "execution_count": null,
   "metadata": {},
   "outputs": [],
   "source": []
  },
  {
   "cell_type": "code",
   "execution_count": null,
   "metadata": {},
   "outputs": [],
   "source": []
  },
  {
   "cell_type": "code",
   "execution_count": null,
   "metadata": {},
   "outputs": [],
   "source": []
  },
  {
   "cell_type": "code",
   "execution_count": null,
   "metadata": {},
   "outputs": [],
   "source": []
  },
  {
   "cell_type": "code",
   "execution_count": null,
   "metadata": {},
   "outputs": [],
   "source": []
  }
 ],
 "metadata": {
  "kernelspec": {
   "display_name": "pygame",
   "language": "python",
   "name": "python3"
  },
  "language_info": {
   "codemirror_mode": {
    "name": "ipython",
    "version": 3
   },
   "file_extension": ".py",
   "mimetype": "text/x-python",
   "name": "python",
   "nbconvert_exporter": "python",
   "pygments_lexer": "ipython3",
   "version": "3.11.9"
  }
 },
 "nbformat": 4,
 "nbformat_minor": 2
}
